{
 "cells": [
  {
   "cell_type": "code",
   "execution_count": 1,
   "metadata": {
    "scrolled": false
   },
   "outputs": [
    {
     "name": "stdout",
     "output_type": "stream",
     "text": [
      "Waiting for redis server at 127.0.0.1:20159 to respond...\n",
      "Waiting for redis server at 127.0.0.1:56301 to respond...\n",
      "Starting local scheduler with 4 CPUs, 0 GPUs\n",
      "\n",
      "======================================================================\n",
      "View the web UI at http://localhost:8889/notebooks/ray_ui34501.ipynb?token=f05cbae2d34ed765294debfcecc4d2b41be860877b60e07e\n",
      "======================================================================\n",
      "\n"
     ]
    }
   ],
   "source": [
    "import jarvis\n",
    "import pandas as pd\n",
    "import numpy as np\n",
    "import matplotlib.pyplot as plt"
   ]
  },
  {
   "cell_type": "markdown",
   "metadata": {},
   "source": [
    "# Where do I start? Summarize current and past experiments"
   ]
  },
  {
   "cell_type": "code",
   "execution_count": 2,
   "metadata": {},
   "outputs": [
    {
     "name": "stderr",
     "output_type": "stream",
     "text": [
      "100%|██████████| 2/2 [00:06<00:00,  3.03s/it]\n"
     ]
    }
   ],
   "source": [
    "summary = jarvis.versionSummaries('twitter_demo')"
   ]
  },
  {
   "cell_type": "code",
   "execution_count": 3,
   "metadata": {},
   "outputs": [
    {
     "data": {
      "text/html": [
       "<div>\n",
       "<style scoped>\n",
       "    .dataframe tbody tr th:only-of-type {\n",
       "        vertical-align: middle;\n",
       "    }\n",
       "\n",
       "    .dataframe tbody tr th {\n",
       "        vertical-align: top;\n",
       "    }\n",
       "\n",
       "    .dataframe thead th {\n",
       "        text-align: right;\n",
       "    }\n",
       "</style>\n",
       "<table border=\"1\" class=\"dataframe\">\n",
       "  <thead>\n",
       "    <tr style=\"text-align: right;\">\n",
       "      <th></th>\n",
       "      <th>__trialNum__</th>\n",
       "      <th>alpha</th>\n",
       "      <th>frac</th>\n",
       "      <th>model</th>\n",
       "      <th>model_accuracy</th>\n",
       "      <th>split_seed</th>\n",
       "      <th>__commitHash__</th>\n",
       "    </tr>\n",
       "  </thead>\n",
       "  <tbody>\n",
       "    <tr>\n",
       "      <th>0</th>\n",
       "      <td>0</td>\n",
       "      <td>0.250000</td>\n",
       "      <td>0.75</td>\n",
       "      <td>. . .</td>\n",
       "      <td>0.67995</td>\n",
       "      <td>42</td>\n",
       "      <td>24a8ac39ed668a23f5c454f5694d11263d91d32b</td>\n",
       "    </tr>\n",
       "    <tr>\n",
       "      <th>1</th>\n",
       "      <td>1</td>\n",
       "      <td>0.285714</td>\n",
       "      <td>0.75</td>\n",
       "      <td>. . .</td>\n",
       "      <td>0.66965</td>\n",
       "      <td>42</td>\n",
       "      <td>24a8ac39ed668a23f5c454f5694d11263d91d32b</td>\n",
       "    </tr>\n",
       "    <tr>\n",
       "      <th>2</th>\n",
       "      <td>2</td>\n",
       "      <td>0.321429</td>\n",
       "      <td>0.75</td>\n",
       "      <td>. . .</td>\n",
       "      <td>0.66070</td>\n",
       "      <td>42</td>\n",
       "      <td>24a8ac39ed668a23f5c454f5694d11263d91d32b</td>\n",
       "    </tr>\n",
       "    <tr>\n",
       "      <th>3</th>\n",
       "      <td>3</td>\n",
       "      <td>0.357143</td>\n",
       "      <td>0.75</td>\n",
       "      <td>. . .</td>\n",
       "      <td>0.65390</td>\n",
       "      <td>42</td>\n",
       "      <td>24a8ac39ed668a23f5c454f5694d11263d91d32b</td>\n",
       "    </tr>\n",
       "    <tr>\n",
       "      <th>4</th>\n",
       "      <td>4</td>\n",
       "      <td>0.392857</td>\n",
       "      <td>0.75</td>\n",
       "      <td>. . .</td>\n",
       "      <td>0.64664</td>\n",
       "      <td>42</td>\n",
       "      <td>24a8ac39ed668a23f5c454f5694d11263d91d32b</td>\n",
       "    </tr>\n",
       "    <tr>\n",
       "      <th>5</th>\n",
       "      <td>5</td>\n",
       "      <td>0.428571</td>\n",
       "      <td>0.75</td>\n",
       "      <td>. . .</td>\n",
       "      <td>0.63919</td>\n",
       "      <td>42</td>\n",
       "      <td>24a8ac39ed668a23f5c454f5694d11263d91d32b</td>\n",
       "    </tr>\n",
       "    <tr>\n",
       "      <th>6</th>\n",
       "      <td>6</td>\n",
       "      <td>0.464286</td>\n",
       "      <td>0.75</td>\n",
       "      <td>. . .</td>\n",
       "      <td>0.63229</td>\n",
       "      <td>42</td>\n",
       "      <td>24a8ac39ed668a23f5c454f5694d11263d91d32b</td>\n",
       "    </tr>\n",
       "    <tr>\n",
       "      <th>7</th>\n",
       "      <td>7</td>\n",
       "      <td>0.500000</td>\n",
       "      <td>0.75</td>\n",
       "      <td>. . .</td>\n",
       "      <td>0.62654</td>\n",
       "      <td>42</td>\n",
       "      <td>24a8ac39ed668a23f5c454f5694d11263d91d32b</td>\n",
       "    </tr>\n",
       "    <tr>\n",
       "      <th>8</th>\n",
       "      <td>0</td>\n",
       "      <td>0.000000</td>\n",
       "      <td>0.75</td>\n",
       "      <td>. . .</td>\n",
       "      <td>0.79514</td>\n",
       "      <td>42</td>\n",
       "      <td>e797841f939ff75c2f2a29f79c161cad280030ba</td>\n",
       "    </tr>\n",
       "    <tr>\n",
       "      <th>9</th>\n",
       "      <td>1</td>\n",
       "      <td>0.142857</td>\n",
       "      <td>0.75</td>\n",
       "      <td>. . .</td>\n",
       "      <td>0.71616</td>\n",
       "      <td>42</td>\n",
       "      <td>e797841f939ff75c2f2a29f79c161cad280030ba</td>\n",
       "    </tr>\n",
       "    <tr>\n",
       "      <th>10</th>\n",
       "      <td>2</td>\n",
       "      <td>0.285714</td>\n",
       "      <td>0.75</td>\n",
       "      <td>. . .</td>\n",
       "      <td>0.66965</td>\n",
       "      <td>42</td>\n",
       "      <td>e797841f939ff75c2f2a29f79c161cad280030ba</td>\n",
       "    </tr>\n",
       "    <tr>\n",
       "      <th>11</th>\n",
       "      <td>3</td>\n",
       "      <td>0.428571</td>\n",
       "      <td>0.75</td>\n",
       "      <td>. . .</td>\n",
       "      <td>0.63919</td>\n",
       "      <td>42</td>\n",
       "      <td>e797841f939ff75c2f2a29f79c161cad280030ba</td>\n",
       "    </tr>\n",
       "    <tr>\n",
       "      <th>12</th>\n",
       "      <td>4</td>\n",
       "      <td>0.571429</td>\n",
       "      <td>0.75</td>\n",
       "      <td>. . .</td>\n",
       "      <td>0.61709</td>\n",
       "      <td>42</td>\n",
       "      <td>e797841f939ff75c2f2a29f79c161cad280030ba</td>\n",
       "    </tr>\n",
       "    <tr>\n",
       "      <th>13</th>\n",
       "      <td>5</td>\n",
       "      <td>0.714286</td>\n",
       "      <td>0.75</td>\n",
       "      <td>. . .</td>\n",
       "      <td>0.59873</td>\n",
       "      <td>42</td>\n",
       "      <td>e797841f939ff75c2f2a29f79c161cad280030ba</td>\n",
       "    </tr>\n",
       "    <tr>\n",
       "      <th>14</th>\n",
       "      <td>6</td>\n",
       "      <td>0.857143</td>\n",
       "      <td>0.75</td>\n",
       "      <td>. . .</td>\n",
       "      <td>0.58543</td>\n",
       "      <td>42</td>\n",
       "      <td>e797841f939ff75c2f2a29f79c161cad280030ba</td>\n",
       "    </tr>\n",
       "    <tr>\n",
       "      <th>15</th>\n",
       "      <td>7</td>\n",
       "      <td>1.000000</td>\n",
       "      <td>0.75</td>\n",
       "      <td>. . .</td>\n",
       "      <td>0.57407</td>\n",
       "      <td>42</td>\n",
       "      <td>e797841f939ff75c2f2a29f79c161cad280030ba</td>\n",
       "    </tr>\n",
       "  </tbody>\n",
       "</table>\n",
       "</div>"
      ],
      "text/plain": [
       "   __trialNum__     alpha  frac    model  model_accuracy  split_seed  \\\n",
       "0             0  0.250000  0.75   . . .          0.67995          42   \n",
       "1             1  0.285714  0.75   . . .          0.66965          42   \n",
       "2             2  0.321429  0.75   . . .          0.66070          42   \n",
       "3             3  0.357143  0.75   . . .          0.65390          42   \n",
       "4             4  0.392857  0.75   . . .          0.64664          42   \n",
       "5             5  0.428571  0.75   . . .          0.63919          42   \n",
       "6             6  0.464286  0.75   . . .          0.63229          42   \n",
       "7             7  0.500000  0.75   . . .          0.62654          42   \n",
       "8             0  0.000000  0.75   . . .          0.79514          42   \n",
       "9             1  0.142857  0.75   . . .          0.71616          42   \n",
       "10            2  0.285714  0.75   . . .          0.66965          42   \n",
       "11            3  0.428571  0.75   . . .          0.63919          42   \n",
       "12            4  0.571429  0.75   . . .          0.61709          42   \n",
       "13            5  0.714286  0.75   . . .          0.59873          42   \n",
       "14            6  0.857143  0.75   . . .          0.58543          42   \n",
       "15            7  1.000000  0.75   . . .          0.57407          42   \n",
       "\n",
       "                              __commitHash__  \n",
       "0   24a8ac39ed668a23f5c454f5694d11263d91d32b  \n",
       "1   24a8ac39ed668a23f5c454f5694d11263d91d32b  \n",
       "2   24a8ac39ed668a23f5c454f5694d11263d91d32b  \n",
       "3   24a8ac39ed668a23f5c454f5694d11263d91d32b  \n",
       "4   24a8ac39ed668a23f5c454f5694d11263d91d32b  \n",
       "5   24a8ac39ed668a23f5c454f5694d11263d91d32b  \n",
       "6   24a8ac39ed668a23f5c454f5694d11263d91d32b  \n",
       "7   24a8ac39ed668a23f5c454f5694d11263d91d32b  \n",
       "8   e797841f939ff75c2f2a29f79c161cad280030ba  \n",
       "9   e797841f939ff75c2f2a29f79c161cad280030ba  \n",
       "10  e797841f939ff75c2f2a29f79c161cad280030ba  \n",
       "11  e797841f939ff75c2f2a29f79c161cad280030ba  \n",
       "12  e797841f939ff75c2f2a29f79c161cad280030ba  \n",
       "13  e797841f939ff75c2f2a29f79c161cad280030ba  \n",
       "14  e797841f939ff75c2f2a29f79c161cad280030ba  \n",
       "15  e797841f939ff75c2f2a29f79c161cad280030ba  "
      ]
     },
     "execution_count": 3,
     "metadata": {},
     "output_type": "execute_result"
    }
   ],
   "source": [
    "summary"
   ]
  },
  {
   "cell_type": "code",
   "execution_count": 7,
   "metadata": {},
   "outputs": [
    {
     "data": {
      "text/plain": [
       "Text(0.5,1,'Model Accuracy versus Alpha')"
      ]
     },
     "execution_count": 7,
     "metadata": {},
     "output_type": "execute_result"
    },
    {
     "data": {
      "image/png": "[encoded data removed]",
      "text/plain": [
       "<matplotlib.figure.Figure at 0x7fbbd3466550>"
      ]
     },
     "metadata": {},
     "output_type": "display_data"
    }
   ],
   "source": [
    "plt.plot(x, y)\n",
    "plt.ylabel('Model Accuracy')\n",
    "plt.xlabel('Alpha Value')\n",
    "plt.title('Model Accuracy versus Alpha')"
   ]
  },
  {
   "cell_type": "code",
   "execution_count": 6,
   "metadata": {},
   "outputs": [
    {
     "name": "stdout",
     "output_type": "stream",
     "text": [
      "[0.25, 0.2857142857142857, 0.3214285714285714, 0.35714285714285715, 0.39285714285714285, 0.42857142857142855, 0.4642857142857143, 0.5]\n",
      "[0.67995, 0.66965, 0.6607, 0.6539, 0.64664, 0.63919, 0.63229, 0.62654]\n"
     ]
    }
   ],
   "source": [
    "x = list(summary['alpha'][0:8])\n",
    "y = list(summary['model_accuracy'][0:8])\n",
    "print(x)\n",
    "print(y)"
   ]
  },
  {
   "cell_type": "markdown",
   "metadata": {},
   "source": [
    "# What is the best experiment?\n",
    "Here, we measure _goodness_ of an experiment by its max model accuracy, over all trials."
   ]
  },
  {
   "cell_type": "code",
   "execution_count": 4,
   "metadata": {},
   "outputs": [
    {
     "data": {
      "text/plain": [
       "__commitHash__\n",
       "e797841f939ff75c2f2a29f79c161cad280030ba    0.79514\n",
       "Name: model_accuracy, dtype: float64"
      ]
     },
     "execution_count": 4,
     "metadata": {},
     "output_type": "execute_result"
    }
   ],
   "source": [
    "summary_stat = summary.groupby('__commitHash__')['model_accuracy'].max()\n",
    "summary_stat"
   ]
  },
  {
   "cell_type": "code",
   "execution_count": 5,
   "metadata": {},
   "outputs": [
    {
     "data": {
      "text/plain": [
       "'e7978...'"
      ]
     },
     "execution_count": 5,
     "metadata": {},
     "output_type": "execute_result"
    }
   ],
   "source": [
    "best_commit_hash = summary_stat.idxmax()\n",
    "best_commit_hash[0:5] + '...'"
   ]
  },
  {
   "cell_type": "markdown",
   "metadata": {},
   "source": [
    "# What is the best trial, given the best experiment?"
   ]
  },
  {
   "cell_type": "code",
   "execution_count": null,
   "metadata": {
    "collapsed": true
   },
   "outputs": [],
   "source": [
    "best_index = summary.loc[summary['__commitHash__'] == best_commit_hash]['model_accuracy'].idxmax()\n",
    "best_trial = summary.iloc[best_index]['__trialNum__']\n",
    "best_trial"
   ]
  },
  {
   "cell_type": "markdown",
   "metadata": {},
   "source": [
    "# So the former experiment is better than the latter. What changed?"
   ]
  },
  {
   "cell_type": "code",
   "execution_count": null,
   "metadata": {
    "collapsed": true
   },
   "outputs": [],
   "source": [
    "versions = summary.__commitHash__.unique()\n",
    "most_recent, least_recent = versions"
   ]
  },
  {
   "cell_type": "code",
   "execution_count": null,
   "metadata": {
    "collapsed": true
   },
   "outputs": [],
   "source": [
    "jarvis.diffExperimentVersions('twitter_demo', least_recent, most_recent)"
   ]
  },
  {
   "cell_type": "markdown",
   "metadata": {},
   "source": [
    "# Let's get the best model yet!\n",
    "From the best trial, from the best experiment"
   ]
  },
  {
   "cell_type": "code",
   "execution_count": null,
   "metadata": {
    "collapsed": true
   },
   "outputs": [],
   "source": [
    "best_model = jarvis.checkoutArtifact('twitter_demo', best_trial, best_commit_hash, 'model.pkl')"
   ]
  },
  {
   "cell_type": "markdown",
   "metadata": {},
   "source": [
    "# Here's the best model in action"
   ]
  },
  {
   "cell_type": "code",
   "execution_count": null,
   "metadata": {
    "collapsed": true
   },
   "outputs": [],
   "source": [
    "country_dict = best_model['country_dict']\n",
    "classifier = best_model['classifier']\n",
    "vectorizer = best_model['vectorizer']\n",
    "\n",
    "code_dict = {}\n",
    "\n",
    "for kee in country_dict:\n",
    "    code_dict[country_dict[kee]] = kee\n",
    "\n",
    "while True:\n",
    "    tweet = input(\"What's on your mind? \")\n",
    "    if tweet == 'exit':\n",
    "        break\n",
    "    tweet_vec = vectorizer.transform(np.array([tweet,]))\n",
    "    country_id = classifier.predict(tweet_vec)\n",
    "    print(\"Predicted country of origin: {}\\n\".format(code_dict[country_id[0]]))"
   ]
  }
 ],
 "metadata": {
  "kernelspec": {
   "display_name": "Python 3",
   "language": "python",
   "name": "python3"
  },
  "language_info": {
   "codemirror_mode": {
    "name": "ipython",
    "version": 3
   },
   "file_extension": ".py",
   "mimetype": "text/x-python",
   "name": "python",
   "nbconvert_exporter": "python",
   "pygments_lexer": "ipython3",
   "version": "3.6.3"
  }
 },
 "nbformat": 4,
 "nbformat_minor": 2
}
